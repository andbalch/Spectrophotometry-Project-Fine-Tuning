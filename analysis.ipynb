{
 "cells": [
  {
   "attachments": {},
   "cell_type": "markdown",
   "metadata": {},
   "source": [
    "# Experiment 2 - Fine Tuning Analysis Pipeline\n",
    "*By Andrew Balch, Kyan Yang*"
   ]
  },
  {
   "cell_type": "code",
   "execution_count": 24,
   "metadata": {},
   "outputs": [],
   "source": [
    "import os\n",
    "import cv2 as cv\n",
    "import numpy as np\n",
    "import pandas as pd\n",
    "import seaborn as sns\n",
    "import matplotlib.pyplot as plt\n",
    "from matplotlib.lines import Line2D\n",
    "import math\n",
    "from scipy.signal import find_peaks\n",
    "from scipy.signal import find_peaks_cwt\n",
    "import plotly.graph_objects as go\n",
    "from sklearn.preprocessing import MinMaxScaler\n",
    "\n",
    "%matplotlib inline "
   ]
  },
  {
   "attachments": {},
   "cell_type": "markdown",
   "metadata": {},
   "source": [
    "## Background Removal (leave for later?)\n",
    "*This one may be put on hold since I have no idea how it will impact the spectral information in the image.*\n",
    "\n",
    "Test different methods of background removal (by subtraction). The original idea was to use ImageJ's sliding paraboloid method and test different radiuses. A github implementation in opencv is available [here](https://github.com/mbalatsko/opencv-rolling-ball). Open-CV has its own built-in methods of background subtraction that could also be tested, but I like the idea of using the sliding paraboloid better since it was developed for biomedical applications. **Keep in mind that we only want background subtraction to impact the area outside of the emission lines.**"
   ]
  },
  {
   "cell_type": "code",
   "execution_count": 25,
   "metadata": {},
   "outputs": [],
   "source": [
    "def background_rm():\n",
    "    return"
   ]
  },
  {
   "attachments": {},
   "cell_type": "markdown",
   "metadata": {},
   "source": [
    "## Image Transformation (manual during profile generation)\n",
    "For proper analysis, all images within the same experimental setup generation must have near-identical regions of interest (ROIs). Meaning, the spectra should be horizontal with the colors going from blue on the right to red on the left. This is easier for Gen 2 images, but all Gen 1 images have an awkward angle that must be accounted for (see below).\n",
    "\n",
    "Two methods for adjusting for this were considered. Rotation ~90 deg ccw makes emission lines vertical, but the overall spectra will be slanted towards the lower right corner. This means that the region of interest will include the bottom of the blue emission line straight through to the top of the red emission line. Rotation ~105 deg ccw makes the spectra roughly horizontal but the emission lines themselves will have an obtuse angle. With this a straight line can be drawn through the center of all of the emission lines, but profile generation will include the background in the vertical space at a pixel position in the x-axis at the edges of each emission lines. The resulting profiles of a blank sample with an LED bulb source for these two methods were overlaid to demonstrate their differences (see below). As the resulting profile shapes are near identical, we will use 90 deg ccw rotation for simplicity.\n",
    "\n",
    "|Gen 1 Calibration Image|Gen 2 Calibration Image|\n",
    "|:-:|:-:|\n",
    "|![Gen 1](./Spectra/Gen%201/Calibration/IMG_6421.JPG \"Gen 1 Calibration Image\")|![Gen 2](./Spectra/Gen%202/Calibration/IMG_6561.JPG \"Gen 2 Calibration Image\")|\n",
    "\n",
    "Profile comparisons\n",
    "\n",
    "![Profile comparison](Gen%201%20LED%20Bulb%20Rotation%20Comparison.jpg)"
   ]
  },
  {
   "attachments": {},
   "cell_type": "markdown",
   "metadata": {},
   "source": [
    "## Image Profile Generation (manual)\n",
    "Profile data for each sample can be found as a csv in the same directory as the images with the naming convention \"<image_name>_profile.csv\". The xy coordinates defining the region are saved as csv in the same location with the name \"region.csv\". All regions have a 50 pixel height and have the same length within a experimental setup generation. Regions were kept constant for all three images collected but differ from sample to sample.\n",
    "\n",
    "ImageJ's [Plot Profile](https://imagej.nih.gov/ij/docs/guide/146-30.html#toc-Subsection-30.11) feature as closely as possible. The feature takes a rectangular region through the center of the spectra (the ROI) and averaging the pixel intensity values in the y-axis (the height of the region) for each pixel in the x-axis (the length of the region). In other words, we want an array with the same size as the length of the image (in pixels) where each element is the averaged intensity of a vertical slice at that pixel.\n",
    "\n",
    "Example ImageJ Profile Generation of CFL Spectra in Gen 2 Setup\n",
    "\n",
    "![Example ImageJ Profile Generation of CFL Spectra in Gen 2 Setup](Profile_Example.jpg)"
   ]
  },
  {
   "attachments": {},
   "cell_type": "markdown",
   "metadata": {},
   "source": [
    "## Peak Detection\n",
    "By-the-book and CWT peak detection for any input series (image profile, absorbance, transmission). I've determined that a CWT widths of 5 and 10 or a prominence of 4 works well for CFL peak detection. This [paper](doi.org/10.1186/1471-2105-10-4) recommends a peakScaleRange (which I assume is analogous to widths) parameter of [2,4,6], but this results in a much larger number of peaks."
   ]
  },
  {
   "cell_type": "code",
   "execution_count": 26,
   "metadata": {},
   "outputs": [],
   "source": [
    "def calc_peaks(series, method=\"cwt\"):\n",
    "    \"\"\"Method param can be one of \"cwt\" (default) or \"norm\" \"\"\"\n",
    "    if method == \"norm\":\n",
    "        return find_peaks(series, prominence=0.1)[0]\n",
    "    return find_peaks_cwt(series, np.array([30, 40]))"
   ]
  },
  {
   "attachments": {},
   "cell_type": "markdown",
   "metadata": {},
   "source": [
    "## Calibration to CFL Spectrum\n",
    "The profile for each image is a dataset of average intensity values for each pixel in the length of the ROI. We need to map these pixel positions to wavelengths to generate absorption and transmission spectra. To do this, we fit a linear equation to pixel positions of known emission peaks of a compact fluorescent light (CFL) ([source](https://commons.wikimedia.org/wiki/File:Fluorescent_lighting_spectrum_peaks_labelled.png)). We calibrate upon the three most prominent CFL peaks at 436.6, 487.7, 546.5, and 611.6 nm.\n",
    "\n",
    "Each generation has its own set of calibration images of a blank sample with a CFL source. We'll create the calibration equation using the helper code below. It allows us to get the profiles of each calibration image, run CWT peak detection with widths of 5 and 10, then plot the data. Visual inspection of the profile plot and these peaks will reveal which pixel positions correspond to the wavelengths at which CFL peaks are known to occur (see the below example). Finding a line of best fit through these pixel position & wavelength points gives us the calibration equation (see 'calibration.xlsx' spreadsheets in /Spectra/Gen #/Calibration).\n",
    "\n",
    "Example calibration spectra: (red sections are noise, notice that the green peak at 546.6 nm is at a secondary, slightly lower peak than one directly to the left of it)\n",
    "\n",
    "![Labeled calibration spectra](Labeled_calibration_spectra.jpg)"
   ]
  },
  {
   "cell_type": "code",
   "execution_count": 27,
   "metadata": {},
   "outputs": [],
   "source": [
    "# HELPER CODE, not part of pipeline\n",
    "# cal_data = pd.read_csv(\"Spectra\\Gen 1\\Calibration\\IMG_6426_profile.csv\")\n",
    "\n",
    "# peaks = calc_peaks(cal_data['Gray_Value'])\n",
    "\n",
    "# fig = go.Figure()\n",
    "\n",
    "# fig.add_trace(go.Scatter(\n",
    "#     x=cal_data['Distance_(pixels)'],\n",
    "#     y=cal_data['Gray_Value'],\n",
    "#     mode='lines',\n",
    "#     name='Spectrum'\n",
    "# ))\n",
    "\n",
    "# fig.add_trace(go.Scatter(\n",
    "#     x=peaks,\n",
    "#     y=[cal_data['Gray_Value'][i] for i in peaks],\n",
    "#     mode='markers',\n",
    "#     name='Peaks'\n",
    "# ))\n",
    "\n",
    "# fig.show()"
   ]
  },
  {
   "cell_type": "code",
   "execution_count": 28,
   "metadata": {},
   "outputs": [],
   "source": [
    "def calibrate_wavelength(dataset, gen):\n",
    "    \"\"\"Applies calibration equation on the 'Distance_(pixels)' column of a provided image profile dataframe, renames the column to 'Wavelength', and \n",
    "    returns the resulting dataframe. Calibration equation is specific to the specified testing generation.\"\"\"\n",
    "    assert gen == 1 or gen == 2, \"Invalid second argument 'gen'! Must be 1 or 2 matching the experimental setup generation of the input dataset\"\n",
    "\n",
    "    eqn = None\n",
    "    if gen == 1: \n",
    "        # y=0.2362x+181.18\n",
    "        eqn = lambda x: 0.2362 * x + 181.18\n",
    "\n",
    "    elif gen == 2:\n",
    "        # y=0.2312x+77.887\n",
    "        eqn = lambda x: 0.2312 * x + 77.887\n",
    "\n",
    "    return pd.DataFrame({\"Wavelength\": dataset['Distance_(pixels)'].apply(eqn),\n",
    "                         \"Gray_Value\": dataset['Gray_Value']})\n",
    "\n",
    "# test_data = pd.read_csv(\"Spectra\\Gen 1\\Calibration\\IMG_6426_profile.csv\")\n",
    "\n",
    "# calibrated_data = calibrate_wavelength(test_data)\n",
    "\n",
    "# fig = go.Figure()\n",
    "\n",
    "# fig.add_trace(go.Scatter(\n",
    "#     x=cal_data['Distance_(pixels)'],\n",
    "#     y=cal_data['Gray_Value'],\n",
    "#     mode='lines',\n",
    "#     name='Spectrum'\n",
    "# ))"
   ]
  },
  {
   "attachments": {},
   "cell_type": "markdown",
   "metadata": {},
   "source": [
    "## Moving Averages\n",
    "After we have mapped pixel positions to wavelengths with the calibration equation we want to experiment with taking a moving average across the series. Basically, we have a window of a specified size (in nm, wavelength units) and we take the average over all of the intensity values at a wavelength in that window, then move to the next (this is actually not accurate to what a moving average actually is). For example, a window of 5 nm would average the intensities within 400 to 405 nm, then those within 405 to 410, etc. \n",
    "\n",
    "We want to test 4 window lengths:\n",
    "1. None \n",
    "2. 3 nm\n",
    "3. 5 nm\n",
    "4. 10 nm\n",
    "\n",
    "**Note:** Taking the moving average will result in having a single value represent a range of wavelengths. To get around any issues this may cause, we'll say that the averaged value is at all wavelengths in the range. Ex\\) The average in a window from 400 to 405 nm will be the value at 400 nm, 401 nm, etc"
   ]
  },
  {
   "cell_type": "code",
   "execution_count": 29,
   "metadata": {},
   "outputs": [],
   "source": [
    "def moving_average(dataframe, window_len=0):\n",
    "    # if window_len > 0:\n",
    "    #     i = 0\n",
    "    #     while i < len(dataframe):\n",
    "    #         window_intensity = 0\n",
    "    #         j = i\n",
    "    #         while (dataframe.iat[j,0] < dataframe.iat[i,0]+window_len):\n",
    "    #             window_intensity += dataframe.iat[j,1]\n",
    "    #             j += 1\n",
    "    #             if (j >= len(dataframe)):\n",
    "    #                 break\n",
    "    #         avg = window_intensity/(j-i)\n",
    "    #         for k in range(i, j):\n",
    "    #             dataframe.loc[k, 'Gray_Value'] = avg\n",
    "    #         i += j-i\n",
    "\n",
    "    if window_len > 0:\n",
    "        dataframe['Gray_Value'] = dataframe['Gray_Value'].rolling(window_len).mean()\n",
    "        dataframe.dropna(inplace=True)\n",
    "        dataframe.reset_index(drop=True, inplace=True)\n",
    "\n",
    "    return dataframe \n",
    "\n",
    "# testing\n",
    "# data = {\n",
    "#     'Wavelength': [400, 401.5, 403, 404.5, 406, 407.5, 409],\n",
    "#     'Gray_Value': [45, 50, 55, 60, 65, 70, 75]\n",
    "# }\n",
    "# df = pd.DataFrame(data)\n",
    "# print('BEFORE', df)\n",
    "# df = moving_average(df, 5)\n",
    "# print('AFTER', df)"
   ]
  },
  {
   "attachments": {},
   "cell_type": "markdown",
   "metadata": {},
   "source": [
    "## Reference Calculation Using Blanks\n",
    "Getting transmission and absorption data requires a reference set for maximum light passthrough (blank samples). We are testing three methods for this: \n",
    "1. Averaging the profiles for each blank sample\n",
    "2. Taking the \"maximum\" profile curve (the single sample with the largest intensity values overall)\n",
    "3. Taking the argmax of all samples (largest intensity at a wavelength across all blanks)"
   ]
  },
  {
   "cell_type": "code",
   "execution_count": 30,
   "metadata": {},
   "outputs": [],
   "source": [
    "def get_reference(pf1, pf2, pf3, method=\"avg\"):\n",
    "    \"\"\"Method param can be one of \"avg\" (default), \"maxcurve\", or \"argmax\" \"\"\"\n",
    "    \n",
    "    profiles = [pf1, pf2, pf3]\n",
    "    new_profile = pd.DataFrame()\n",
    "    count = 0\n",
    "    for profile in profiles:\n",
    "        if not (profile.isnull().values.any()):\n",
    "            if (len(new_profile) != 0):\n",
    "                new_profile = pd.merge(new_profile, profile, on='Wavelength', how='inner', suffixes=('_df1', '_df2'))\n",
    "                if (method == \"argmax\"):\n",
    "                    new_profile['Gray_Value'] = new_profile[['Gray_Value_df1', 'Gray_Value_df2']].max(axis=1)\n",
    "                elif (method == \"maxcurve\"):\n",
    "                    filtered_df = new_profile[(new_profile['Wavelength'] >= 400) & (new_profile['Wavelength'] <= 700)]\n",
    "                    if filtered_df['Gray_Value_df2'].mean() > filtered_df['Gray_Value_df1'].mean():\n",
    "                        new_profile['Gray_Value'] = new_profile['Gray_Value_df2']\n",
    "                    else:\n",
    "                        new_profile['Gray_Value'] = new_profile['Gray_Value_df1']\n",
    "                else:\n",
    "                    new_profile['Gray_Value'] = new_profile['Gray_Value_df1'] + new_profile['Gray_Value_df2']  \n",
    "                new_profile = new_profile.drop(columns=['Gray_Value_df1', 'Gray_Value_df2'])\n",
    "            else:\n",
    "                new_profile = profile\n",
    "            count += 1\n",
    "    if (method == \"avg\"):\n",
    "        new_profile['Gray_Value'] = new_profile['Gray_Value'] / count\n",
    "    return new_profile\n",
    "\n",
    "\n",
    "# testing\n",
    "# profiles = []\n",
    "# cfl_blanks_path = r\"Spectra\\Gen 1\\CFL Source\\Blank\"\n",
    "# for file in os.listdir(cfl_blanks_path):\n",
    "#     if file.endswith('.csv') and file.startswith('IMG'):\n",
    "#         profiles.append(calibrate_wavelength(pd.read_csv(os.path.join(cfl_blanks_path, file)), 1))\n",
    "\n",
    "# print('avg', get_reference(profiles[0], profiles[1], profiles[2]))\n",
    "\n",
    "# print('maxcurve', get_reference(profiles[0], profiles[1], profiles[2], 'maxcurve'))\n",
    "\n",
    "# print('argmax', get_reference(profiles[0], profiles[1], profiles[2], 'argmax'))\n",
    "\n"
   ]
  },
  {
   "attachments": {},
   "cell_type": "markdown",
   "metadata": {},
   "source": [
    "## Calculate Transmittance\n",
    "The transmittance of light through the sample is calculated by dividing the intensity of the sample (transmitted light) by the reference value (incident light) at each wavelength."
   ]
  },
  {
   "cell_type": "code",
   "execution_count": 31,
   "metadata": {},
   "outputs": [],
   "source": [
    "def calc_trans(sample, reference):\n",
    "    if reference == 0:\n",
    "        return 0\n",
    "    return sample/reference"
   ]
  },
  {
   "attachments": {},
   "cell_type": "markdown",
   "metadata": {},
   "source": [
    "## Calculate Absorbance\n",
    "Now that we have transmittance, we can calculate the absorbance of light by the sample by the equation: $absorbance=-log_{10}(transmittance)$."
   ]
  },
  {
   "cell_type": "code",
   "execution_count": 32,
   "metadata": {},
   "outputs": [],
   "source": [
    "def calc_abs(transmittance):\n",
    "    if transmittance == 0:\n",
    "        return 0\n",
    "    return -1*math.log10(transmittance)"
   ]
  },
  {
   "attachments": {},
   "cell_type": "markdown",
   "metadata": {},
   "source": [
    "## Driver Code\n",
    "Putting it all together into a pipeline that takes each image, tests all parameters, and generates graphs and data for inspection. Here is the hierarchy of parameters we want to test: \n",
    "* Generation (2 params)\n",
    "    * Light source (4 params)\n",
    "        * Background removal (~3 params, if applicable)\n",
    "            * Reference method (3 params)\n",
    "                * Moving average (4 params)\n",
    "                \n",
    "\n",
    "For each combination of parameters, we want to end up with 3 datasets (plots and raw data): one of the reference, one of all the TJ supplement samples, and another of all the Walgreens samples (288 datasets total, 864 if background removal).\n",
    "\n",
    "**Notes for implementation:** \n",
    "* Calibration eqn only needs to be retrieved once for each generation\n",
    "* Creating a pandas dataframe could be very helpful for plotting\n",
    "* Save the data in a file structure that follows the above hierarchy\n",
    "\n",
    "**Notes for plotting:** \n",
    "* Reference plot should be wavelength vs intensity for the method used\n",
    "* Plots of the supplement samples should include transmittance and absorbance stacked on the same x-axis wavelength. They should also include all tested concentrations as different colored lines with a legend (see below example, ignore concentration)\n",
    "\n",
    "![Example Plot](example_plot.jpeg)"
   ]
  },
  {
   "cell_type": "code",
   "execution_count": 33,
   "metadata": {},
   "outputs": [],
   "source": [
    "def collect_pfs(profiles, path, gen):\n",
    "    for file in os.listdir(path):\n",
    "        if file.endswith('.csv') and file.startswith('IMG'):\n",
    "            profiles.append(calibrate_wavelength(pd.read_csv(os.path.join(path, file)), gen))"
   ]
  },
  {
   "cell_type": "code",
   "execution_count": 40,
   "metadata": {},
   "outputs": [],
   "source": [
    "light_sources = ['CFL', 'LED Bulb', 'LED Matrix', 'Single LED']\n",
    "ref_methods = ['argmax', 'maxcurve', 'avg']\n",
    "moving_avg_win_lens = [0, 3, 5, 10]\n",
    "colors = {'1 mcg': 'teal', '2 mcg': 'lime', '4 mcg': 'gold', '10 mcg': 'orange', '20 mcg': 'red'}\n",
    "conc_list = ['1 mcg', '2 mcg', '4 mcg', '10 mcg', '20 mcg']\n"
   ]
  },
  {
   "cell_type": "code",
   "execution_count": 48,
   "metadata": {},
   "outputs": [
    {
     "ename": "KeyboardInterrupt",
     "evalue": "",
     "output_type": "error",
     "traceback": [
      "\u001b[1;31m---------------------------------------------------------------------------\u001b[0m",
      "\u001b[1;31mKeyboardInterrupt\u001b[0m                         Traceback (most recent call last)",
      "Cell \u001b[1;32mIn[48], line 58\u001b[0m\n\u001b[0;32m     56\u001b[0m     wavelength \u001b[39m=\u001b[39m conc_profile[\u001b[39m'\u001b[39m\u001b[39mWavelength\u001b[39m\u001b[39m'\u001b[39m]\n\u001b[0;32m     57\u001b[0m     gray_value \u001b[39m=\u001b[39m conc_profile[\u001b[39m'\u001b[39m\u001b[39mGray_Value\u001b[39m\u001b[39m'\u001b[39m]\n\u001b[1;32m---> 58\u001b[0m     transmittance \u001b[39m=\u001b[39m [calc_trans(gray_value[i], reference\u001b[39m.\u001b[39miat[i,\u001b[39m1\u001b[39m]) \u001b[39mfor\u001b[39;00m i \u001b[39min\u001b[39;00m \u001b[39mrange\u001b[39m(\u001b[39mmin\u001b[39m(\u001b[39mlen\u001b[39m(gray_value), \u001b[39mlen\u001b[39m(reference)))]\n\u001b[0;32m     59\u001b[0m     sample_data \u001b[39m=\u001b[39m  pd\u001b[39m.\u001b[39mconcat([sample_data, \n\u001b[0;32m     60\u001b[0m                               pd\u001b[39m.\u001b[39mDataFrame({\u001b[39m\"\u001b[39m\u001b[39mConcentration\u001b[39m\u001b[39m\"\u001b[39m: [conc \u001b[39mfor\u001b[39;00m _ \u001b[39min\u001b[39;00m \u001b[39mrange\u001b[39m(\u001b[39mlen\u001b[39m(wavelength))],\n\u001b[0;32m     61\u001b[0m                                             \u001b[39m\"\u001b[39m\u001b[39mWavelength\u001b[39m\u001b[39m\"\u001b[39m: wavelength,\n\u001b[0;32m     62\u001b[0m                                             \u001b[39m\"\u001b[39m\u001b[39mTransmittance\u001b[39m\u001b[39m\"\u001b[39m: transmittance})], ignore_index\u001b[39m=\u001b[39m\u001b[39mTrue\u001b[39;00m)\n\u001b[0;32m     64\u001b[0m \u001b[39m# Normalize transmittance with maxmin\u001b[39;00m\n",
      "Cell \u001b[1;32mIn[48], line 58\u001b[0m, in \u001b[0;36m<listcomp>\u001b[1;34m(.0)\u001b[0m\n\u001b[0;32m     56\u001b[0m     wavelength \u001b[39m=\u001b[39m conc_profile[\u001b[39m'\u001b[39m\u001b[39mWavelength\u001b[39m\u001b[39m'\u001b[39m]\n\u001b[0;32m     57\u001b[0m     gray_value \u001b[39m=\u001b[39m conc_profile[\u001b[39m'\u001b[39m\u001b[39mGray_Value\u001b[39m\u001b[39m'\u001b[39m]\n\u001b[1;32m---> 58\u001b[0m     transmittance \u001b[39m=\u001b[39m [calc_trans(gray_value[i], reference\u001b[39m.\u001b[39;49miat[i,\u001b[39m1\u001b[39;49m]) \u001b[39mfor\u001b[39;00m i \u001b[39min\u001b[39;00m \u001b[39mrange\u001b[39m(\u001b[39mmin\u001b[39m(\u001b[39mlen\u001b[39m(gray_value), \u001b[39mlen\u001b[39m(reference)))]\n\u001b[0;32m     59\u001b[0m     sample_data \u001b[39m=\u001b[39m  pd\u001b[39m.\u001b[39mconcat([sample_data, \n\u001b[0;32m     60\u001b[0m                               pd\u001b[39m.\u001b[39mDataFrame({\u001b[39m\"\u001b[39m\u001b[39mConcentration\u001b[39m\u001b[39m\"\u001b[39m: [conc \u001b[39mfor\u001b[39;00m _ \u001b[39min\u001b[39;00m \u001b[39mrange\u001b[39m(\u001b[39mlen\u001b[39m(wavelength))],\n\u001b[0;32m     61\u001b[0m                                             \u001b[39m\"\u001b[39m\u001b[39mWavelength\u001b[39m\u001b[39m\"\u001b[39m: wavelength,\n\u001b[0;32m     62\u001b[0m                                             \u001b[39m\"\u001b[39m\u001b[39mTransmittance\u001b[39m\u001b[39m\"\u001b[39m: transmittance})], ignore_index\u001b[39m=\u001b[39m\u001b[39mTrue\u001b[39;00m)\n\u001b[0;32m     64\u001b[0m \u001b[39m# Normalize transmittance with maxmin\u001b[39;00m\n",
      "Cell \u001b[1;32mIn[31], line 2\u001b[0m, in \u001b[0;36mcalc_trans\u001b[1;34m(sample, reference)\u001b[0m\n\u001b[0;32m      1\u001b[0m \u001b[39mdef\u001b[39;00m \u001b[39mcalc_trans\u001b[39m(sample, reference):\n\u001b[1;32m----> 2\u001b[0m     \u001b[39mif\u001b[39;00m reference \u001b[39m==\u001b[39;49m \u001b[39m0\u001b[39;49m:\n\u001b[0;32m      3\u001b[0m         \u001b[39mreturn\u001b[39;00m \u001b[39m0\u001b[39m\n\u001b[0;32m      4\u001b[0m     \u001b[39mreturn\u001b[39;00m sample\u001b[39m/\u001b[39mreference\n",
      "\u001b[1;31mKeyboardInterrupt\u001b[0m: "
     ]
    },
    {
     "data": {
      "image/png": "[encoded data removed]",
      "text/plain": [
       "<Figure size 1000x600 with 1 Axes>"
      ]
     },
     "metadata": {},
     "output_type": "display_data"
    },
    {
     "data": {
      "image/png": "[encoded data removed]",
      "text/plain": [
       "<Figure size 1000x600 with 2 Axes>"
      ]
     },
     "metadata": {},
     "output_type": "display_data"
    }
   ],
   "source": [
    "for GEN in range(1, 3):\n",
    "    for LS in light_sources:\n",
    "        # Figure to compare reference methods\n",
    "        ref_fig, ref_ax = plt.subplots(figsize=(10,6))\n",
    "        for RM in ref_methods:\n",
    "            for WIN in moving_avg_win_lens:\n",
    "                PATH = rf'Spectra\\Gen {GEN}\\{LS} Source'\n",
    "                PLOT_PATH = f'Plots_norm\\Gen {GEN}\\{LS} Source\\{RM}\\Win Len {WIN}'\n",
    "                if not os.path.isdir(PLOT_PATH):\n",
    "                    os.makedirs(PLOT_PATH)\n",
    "                blanks = []\n",
    "\n",
    "                # reference\n",
    "                collect_pfs(blanks, os.path.join(PATH, 'Blank'), GEN)\n",
    "                reference = get_reference(blanks[0], blanks[1], blanks[2], RM)\n",
    "                # Omit an outlier in Gen 1 - LED Matrix blanks (IMG_6530)\n",
    "                if (GEN == 1 and LS == 'LED Matrix'): \n",
    "                    reference = get_reference(blanks[0], blanks[1], pd.DataFrame({'Wavelength': [np.nan],'Gray_Value': [np.nan]}), RM)\n",
    "                reference = moving_average(reference, WIN)\n",
    "                ref_plot_path = os.path.join(PLOT_PATH, f'RefPlot_Gen{GEN}_{LS}_{RM}_WL{WIN}.JPG')\n",
    "                # reference plotting\n",
    "                fig, ax = plt.subplots(figsize=(10,6))\n",
    "                ax.plot(reference['Wavelength'], reference['Gray_Value'])\n",
    "                ax.xaxis.set_ticks_position('bottom')\n",
    "                ax.xaxis.set_label_position('bottom')\n",
    "                ax.xaxis.set_major_locator(plt.MultipleLocator(100))\n",
    "                ax.xaxis.set_minor_locator(plt.MultipleLocator(50))\n",
    "                ax.set_xlabel('Wavelength')\n",
    "                ax.set_ylabel('Gray Value')\n",
    "                fig.suptitle(f'Reference -- Gen {GEN}, {LS} Source, {RM} Reference, {WIN} Win Len')\n",
    "                fig.tight_layout()\n",
    "                plt.savefig(ref_plot_path, dpi=1200)\n",
    "                plt.close(fig)\n",
    "\n",
    "                # save raw data\n",
    "                reference.to_csv(os.path.join(PLOT_PATH, f'RefData_Gen{GEN}_{LS}_{RM}_WL{WIN}.csv'), index=False)\n",
    "\n",
    "                if (WIN == 0):\n",
    "                    ref_ax.plot(reference['Wavelength'], reference['Gray_Value'], label=RM, linewidth=1)\n",
    "\n",
    "                # supps\n",
    "                for store in os.listdir(PATH):\n",
    "                    if (store != 'Trader Joes' and store != 'Walgreens'):\n",
    "                        continue\n",
    "\n",
    "                    fig, (ax1, ax2) = plt.subplots(2, 1, sharex=True, figsize=(10,6))\n",
    "                    sample_data = pd.DataFrame(columns=[\"Concentration\", \"Wavelength\", \"Transmittance\"])\n",
    "                    for conc in conc_list:\n",
    "                        # get profiles\n",
    "                        conc_profiles = []\n",
    "                        collect_pfs(conc_profiles, os.path.join(PATH, store, conc), GEN)\n",
    "                        conc_profile = get_reference(conc_profiles[0], conc_profiles[1], conc_profiles[2], 'avg')\n",
    "                        conc_profile = moving_average(conc_profile, WIN)\n",
    "\n",
    "                        # get trans and abs\n",
    "                        wavelength = conc_profile['Wavelength']\n",
    "                        gray_value = conc_profile['Gray_Value']\n",
    "                        transmittance = [calc_trans(gray_value[i], reference.iat[i,1]) for i in range(min(len(gray_value), len(reference)))]\n",
    "                        sample_data =  pd.concat([sample_data, \n",
    "                                                  pd.DataFrame({\"Concentration\": [conc for _ in range(len(wavelength))],\n",
    "                                                                \"Wavelength\": wavelength,\n",
    "                                                                \"Transmittance\": transmittance})], ignore_index=True)\n",
    "                    \n",
    "                    # Normalize transmittance with maxmin\n",
    "                    scaler = MinMaxScaler()\n",
    "                    to_scale = sample_data[\"Transmittance\"].values.reshape(-1,1)\n",
    "                    scaled = scaler.fit_transform(to_scale).flatten()\n",
    "                    sample_data[\"Transmittance\"] = scaled\n",
    "                    sample_data[\"Absorbance\"] = sample_data[\"Transmittance\"].map(lambda x: calc_abs(x))\n",
    "\n",
    "                    # ensure same size as reference\n",
    "                    # len_w = len(wavelength)\n",
    "                    # len_a = len(absorbance)\n",
    "                    # if (len_w > len_a):\n",
    "                    #     wavelength.drop(wavelength.tail(len_w-len_a).index,inplace=True)\n",
    "                    # elif (len_w < len_a):\n",
    "                    #     absorbance.drop(absorbance.tail(len_a-len_w).index,inplace=True)\n",
    "\n",
    "                    save_path = ''\n",
    "                    if (store == 'Trader Joes'):\n",
    "                        save_path = os.path.join(PLOT_PATH, f'Data_TJ_Gen{GEN}_{LS}_{RM}_WL{WIN}.csv')\n",
    "                    else:\n",
    "                        save_path = os.path.join(PLOT_PATH, f'Data_WG_Gen{GEN}_{LS}_{RM}_WL{WIN}.csv')\n",
    "                    sample_data.to_csv(save_path, index=False)\n",
    "                    \n",
    "                    # show plot\n",
    "                    for concentration in conc_list: \n",
    "                        plot_data = sample_data.loc[sample_data[\"Concentration\"] == concentration]\n",
    "                        ax1.plot(plot_data[\"Wavelength\"], plot_data[\"Transmittance\"], label=concentration, color=colors[concentration])\n",
    "                        ax2.plot(plot_data[\"Wavelength\"], plot_data[\"Absorbance\"], color=colors[concentration])\n",
    "                    ax1.set_ylabel('Transmittance')\n",
    "                    ax2.set_ylabel('Absorbance')\n",
    "                    ax2.set_xlabel('Wavelength')\n",
    "                    ax2.xaxis.set_ticks_position('bottom')\n",
    "                    ax2.xaxis.set_label_position('bottom')\n",
    "                    ax1.xaxis.set_major_locator(plt.MultipleLocator(100))\n",
    "                    ax2.xaxis.set_major_locator(plt.MultipleLocator(100))\n",
    "                    ax1.xaxis.set_minor_locator(plt.MultipleLocator(50))\n",
    "                    ax2.xaxis.set_minor_locator(plt.MultipleLocator(50))\n",
    "\n",
    "                    ax1.legend()\n",
    "                    fig.suptitle(f'{store} -- Gen {GEN}, {LS} Source, {RM} Reference, {WIN} Win Len')\n",
    "                    fig.tight_layout()\n",
    "\n",
    "                    # save fig\n",
    "                    store_path = ''\n",
    "                    if (store == 'Trader Joes'):\n",
    "                        store_path = os.path.join(PLOT_PATH, f'Plot_TJ_Gen{GEN}_{LS}_{RM}_WL{WIN}.JPG')\n",
    "                    else:\n",
    "                        store_path = os.path.join(PLOT_PATH, f'Plot_WG_Gen{GEN}_{LS}_{RM}_WL{WIN}.JPG')\n",
    "                    plt.savefig(store_path, dpi=1200)\n",
    "                    plt.close(fig)\n",
    "            \n",
    "        # save ref comparison\n",
    "        ref_ax.xaxis.set_ticks_position('bottom')\n",
    "        ref_ax.xaxis.set_label_position('bottom')\n",
    "        ref_ax.set_xlabel('Wavelength')\n",
    "        ref_ax.set_ylabel('Gray Value')\n",
    "        ref_ax.xaxis.set_major_locator(plt.MultipleLocator(100))\n",
    "        ref_ax.xaxis.set_minor_locator(plt.MultipleLocator(50))\n",
    "        ref_fig.suptitle(f'Reference Comparison -- Gen {GEN}, {LS} Source, 0 Win Len')\n",
    "        ref_fig.tight_layout()\n",
    "        plt.legend()\n",
    "        plt.savefig(os.path.join(f'Plots\\Gen {GEN}\\{LS} Source', f'RefPlotComparison_Gen{GEN}_{LS}_WL0.JPG'), dpi=1200)\n",
    "        plt.close()"
   ]
  },
  {
   "attachments": {},
   "cell_type": "markdown",
   "metadata": {},
   "source": [
    "## Lambert-Beer Analysis\n",
    "The Lambert-Beer Law is as follows:\n",
    "\n",
    "$A=\\varepsilon * l * C$\n",
    "\n",
    "$A$ is the absorbance of the sample at the wavelength(s) at which it is maximized ($\\lambda_{max}$ in nm). $l$ is the path length of the cuvette (1 cm). $C$ is the concentration of the sample in moles per liter. $\\varepsilon$ is the molar absorption coefficient at $\\lambda_{max}$ in $M^{-1}cm^{-1}$.\n",
    "\n",
    "$\\varepsilon$ can be calculated with the equation $\\varepsilon = A / C$ at a given wavelength ($l$ is assumed to be 1 cm). It can be experimentally determined by finding $\\lambda_{max}$ for multiple known concentrations, plotting the absorbance against concentration for these samples and drawing a line of best fit. The slope of this line is the coefficient.\n",
    "\n",
    "Some values of $\\varepsilon$ for cyanocobalamin in literature have been found:\n",
    "* 30,800 at 367.5 nm ([source](doi.org/10.1093/ajcn/87.5.1324))\n",
    "* 11,000 at 468 nm (phenolate cobalamin) ([source](doi.org/10.1042/bj1200263))\n",
    "* 27,500 at 361 nm ([source](https://www.sigmaaldrich.com/US/en/product/sigma/v2876))\n",
    "* 8,674 at 550 nm ([source](https://www.sigmaaldrich.com/US/en/product/sigma/v2876))\n",
    "\n",
    "It is unclear if it will be adequate to apply the previously determined values of $\\varepsilon$ for concentration in this analysis. This will depend on whether or not the peaks of absorbance plots show agreement with the peaks at which these molar coefficients have been determined. If not, it will be necessary to determine a coefficient experimentally as described above. "
   ]
  },
  {
   "cell_type": "code",
   "execution_count": null,
   "metadata": {},
   "outputs": [],
   "source": [
    "data_path = \"Plots\\Gen 1\\LED Bulb Source\\\\avg\\Win Len 10\"\n",
    "fig = go.Figure()\n",
    "\n",
    "for c in conc_list:\n",
    "    data = pd.read_csv(os.path.join(data_path, f\"Data_WG_C{c.split()[0]}_Gen1_LED Bulb_avg_WL10.csv\"))\n",
    "\n",
    "    peaks = calc_peaks(data['Absorbance'], method=\"cwt\")\n",
    "\n",
    "    fig.add_trace(go.Scatter(\n",
    "        x=data['Wavelength'],\n",
    "        y=data['Absorbance'],\n",
    "        mode='lines',\n",
    "        name=c,\n",
    "        line_color=colors[c]\n",
    "    ))\n",
    "\n",
    "    fig.add_trace(go.Scatter(\n",
    "        x=[data['Wavelength'][i] for i in peaks],\n",
    "        y=[data['Absorbance'][i] for i in peaks],\n",
    "        mode='markers',\n",
    "        showlegend=False\n",
    "    ))\n",
    "\n",
    "fig.show()"
   ]
  },
  {
   "cell_type": "code",
   "execution_count": null,
   "metadata": {},
   "outputs": [],
   "source": [
    "df = pd.DataFrame({\"Absorbance\": [0.3432, 0.2762, 0.2163, 0.1281, 0.1213], \"Concentration (mol/L)\": [0.0000147558, 0.0000073779, 0.00000295116, 0.00000147558, 0.00000073779]})\n",
    "sns.regplot(x=df[\"Concentration (mol/L)\"], y=df[\"Absorbance\"], ci=False, logx=True, line_kws={'color': \"red\"})"
   ]
  }
 ],
 "metadata": {
  "kernelspec": {
   "display_name": "Python 3",
   "language": "python",
   "name": "python3"
  },
  "language_info": {
   "codemirror_mode": {
    "name": "ipython",
    "version": 3
   },
   "file_extension": ".py",
   "mimetype": "text/x-python",
   "name": "python",
   "nbconvert_exporter": "python",
   "pygments_lexer": "ipython3",
   "version": "3.10.11"
  },
  "orig_nbformat": 4
 },
 "nbformat": 4,
 "nbformat_minor": 2
}
